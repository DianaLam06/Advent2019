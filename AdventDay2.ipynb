{
 "cells": [
  {
   "cell_type": "code",
   "execution_count": null,
   "metadata": {},
   "outputs": [],
   "source": [
    "# Day 2 part 1"
   ]
  },
  {
   "cell_type": "code",
   "execution_count": 16,
   "metadata": {},
   "outputs": [],
   "source": [
    "import config"
   ]
  },
  {
   "cell_type": "code",
   "execution_count": 20,
   "metadata": {},
   "outputs": [
    {
     "name": "stdout",
     "output_type": "stream",
     "text": [
      "curl: (60) SSL certificate problem: self signed certificate in certificate chain\n",
      "More details here: https://curl.haxx.se/docs/sslcerts.html\n",
      "\n",
      "curl failed to verify the legitimacy of the server and therefore could not\n",
      "establish a secure connection to it. To learn more about this situation and\n",
      "how to fix it, please visit the web page mentioned above.\n",
      "curl: (6) Could not resolve host: 53616c7465645f5fa1269f068d7bc257c5a7fecddbfbfb1b9601f6126600b75c19baae0514d99a21c7115e1fc92de7bf\n"
     ]
    }
   ],
   "source": [
    "# ! curl \"https://adventofcode.com/2019/day/2/input\"  --cookie config.session_key"
   ]
  },
  {
   "cell_type": "code",
   "execution_count": 108,
   "metadata": {},
   "outputs": [],
   "source": [
    "memory_wrong = [1,0,0,3,1,1,2,3,1,3,4,3,1,5,0,3,2,6,1,19,1,5,19,23,2,6,23,27,1,27,5,31,2,9,31,35,1,5,35,39,2,6,39,43,2,6,43,47,1,5,47,51,2,9,51,55,1,5,55,59,1,10,59,63,1,63,6,67,1,9,67,71,1,71,6,75,1,75,13,79,2,79,13,83,2,9,83,87,1,87,5,91,1,9,91,95,2,10,95,99,1,5,99,103,1,103,9,107,1,13,107,111,2,111,10,115,1,115,5,119,2,13,119,123,1,9,123,127,1,5,127,131,2,131,6,135,1,135,5,139,1,139,6,143,1,143,6,147,1,2,147,151,1,151,5,0,99,2,14,0,0]"
   ]
  },
  {
   "cell_type": "code",
   "execution_count": 109,
   "metadata": {},
   "outputs": [],
   "source": [
    "# fix: replace position 1 with the value 12 and replace position 2 with the value 2.\n",
    "def fix_program(wrong):\n",
    "    temp = wrong.copy()\n",
    "    temp[1] = 12\n",
    "    temp[2] = 2\n",
    "    return temp\n"
   ]
  },
  {
   "cell_type": "code",
   "execution_count": 110,
   "metadata": {},
   "outputs": [],
   "source": [
    "memory_right = fix_program(memory_wrong)"
   ]
  },
  {
   "cell_type": "code",
   "execution_count": 124,
   "metadata": {},
   "outputs": [],
   "source": [
    "# could refactor with the list as a dictionary\n",
    "def intcode(memory_init):\n",
    "    program = memory_init.copy()\n",
    "    for index in range(0, len(program), 4):\n",
    "        if program[index] == 1:\n",
    "            program[program[index + 3]] = program[program[index + 1]] + program[program[index + 2]]\n",
    "        elif program[index] == 2:\n",
    "            program[program[index + 3]] = program[program[index + 1]] * program[program[index + 2]]\n",
    "        elif program[index] == 99:\n",
    "            return program"
   ]
  },
  {
   "cell_type": "code",
   "execution_count": 126,
   "metadata": {},
   "outputs": [
    {
     "data": {
      "text/plain": [
       "4484226"
      ]
     },
     "execution_count": 126,
     "metadata": {},
     "output_type": "execute_result"
    }
   ],
   "source": [
    "final = intcode(memory_right)[0]\n",
    "final"
   ]
  },
  {
   "cell_type": "code",
   "execution_count": null,
   "metadata": {},
   "outputs": [],
   "source": [
    "# part 2"
   ]
  },
  {
   "cell_type": "code",
   "execution_count": 127,
   "metadata": {},
   "outputs": [],
   "source": [
    "def fix_program2(wrong, noun, verb):\n",
    "    temp = wrong.copy()\n",
    "    temp[1] = noun\n",
    "    temp[2] = verb\n",
    "    return temp"
   ]
  },
  {
   "cell_type": "code",
   "execution_count": 134,
   "metadata": {},
   "outputs": [],
   "source": [
    "def int2(wrong, noun, verb):\n",
    "    memory_right = fix_program2(wrong, noun, verb)\n",
    "    return intcode(memory_right)[0]"
   ]
  },
  {
   "cell_type": "code",
   "execution_count": 135,
   "metadata": {},
   "outputs": [
    {
     "data": {
      "text/plain": [
       "4484226"
      ]
     },
     "execution_count": 135,
     "metadata": {},
     "output_type": "execute_result"
    }
   ],
   "source": [
    "int2(memory_wrong, 12, 2)"
   ]
  },
  {
   "cell_type": "code",
   "execution_count": 146,
   "metadata": {},
   "outputs": [],
   "source": [
    "noun_verb = [[noun, verb] for noun in range(0,100) for verb in range(0, 100) if int2(memory_wrong, noun, verb) == 19690720 ]"
   ]
  },
  {
   "cell_type": "code",
   "execution_count": 148,
   "metadata": {},
   "outputs": [
    {
     "data": {
      "text/plain": [
       "5696"
      ]
     },
     "execution_count": 148,
     "metadata": {},
     "output_type": "execute_result"
    }
   ],
   "source": [
    "final = 100 * noun_verb[0][0] + noun_verb[0][1]\n",
    "final"
   ]
  },
  {
   "cell_type": "code",
   "execution_count": null,
   "metadata": {},
   "outputs": [],
   "source": []
  }
 ],
 "metadata": {
  "kernelspec": {
   "display_name": "Python 3",
   "language": "python",
   "name": "python3"
  },
  "language_info": {
   "codemirror_mode": {
    "name": "ipython",
    "version": 3
   },
   "file_extension": ".py",
   "mimetype": "text/x-python",
   "name": "python",
   "nbconvert_exporter": "python",
   "pygments_lexer": "ipython3",
   "version": "3.7.4"
  }
 },
 "nbformat": 4,
 "nbformat_minor": 4
}
