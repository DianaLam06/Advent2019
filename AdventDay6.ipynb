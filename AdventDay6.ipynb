{
 "cells": [
  {
   "cell_type": "code",
   "execution_count": null,
   "metadata": {},
   "outputs": [],
   "source": [
    "# Day 6 part 1"
   ]
  },
  {
   "cell_type": "code",
   "execution_count": 2,
   "metadata": {},
   "outputs": [],
   "source": [
    "import pandas as pd\n",
    "import copy\n",
    "from itertools import chain\n",
    "import numpy as np"
   ]
  },
  {
   "cell_type": "code",
   "execution_count": 3,
   "metadata": {},
   "outputs": [],
   "source": [
    "def go_in(inner, outer, out_in):\n",
    "    out_in[outer].append(inner)"
   ]
  },
  {
   "cell_type": "code",
   "execution_count": 4,
   "metadata": {},
   "outputs": [],
   "source": [
    "def find_orbits(my_dict):\n",
    "    for key in my_dict:\n",
    "        temp = key\n",
    "        while 'COM' not in my_dict[temp][0]:\n",
    "            temp = my_dict[temp][0]\n",
    "            my_dict[key].append(my_dict[temp][0])"
   ]
  },
  {
   "cell_type": "code",
   "execution_count": 5,
   "metadata": {},
   "outputs": [],
   "source": [
    "def make_orbit_dict(data):\n",
    "    out_in = {outer: [] for outer in set(data[1])} \n",
    "    data.apply(lambda x: go_in(x[0], x[1], out_in), axis = 1)\n",
    "    out_in2 = copy.deepcopy(out_in)    \n",
    "    find_orbits(out_in2)\n",
    "    return out_in2"
   ]
  },
  {
   "cell_type": "code",
   "execution_count": 7,
   "metadata": {},
   "outputs": [],
   "source": [
    "santa_map = pd.read_table(\"data/day6_test.txt\", header = None, sep = \")\")"
   ]
  },
  {
   "cell_type": "code",
   "execution_count": 8,
   "metadata": {},
   "outputs": [],
   "source": [
    "test_orbit = make_orbit_dict(santa_map)"
   ]
  },
  {
   "cell_type": "code",
   "execution_count": 10,
   "metadata": {},
   "outputs": [
    {
     "data": {
      "text/plain": [
       "{'H': ['G', 'B', 'COM'],\n",
       " 'B': ['COM'],\n",
       " 'I': ['D', 'C', 'B', 'COM'],\n",
       " 'K': ['J', 'E', 'D', 'C', 'B', 'COM'],\n",
       " 'G': ['B', 'COM'],\n",
       " 'E': ['D', 'C', 'B', 'COM'],\n",
       " 'F': ['E', 'D', 'C', 'B', 'COM'],\n",
       " 'C': ['B', 'COM'],\n",
       " 'J': ['E', 'D', 'C', 'B', 'COM'],\n",
       " 'D': ['C', 'B', 'COM'],\n",
       " 'L': ['K', 'J', 'E', 'D', 'C', 'B', 'COM']}"
      ]
     },
     "execution_count": 10,
     "metadata": {},
     "output_type": "execute_result"
    }
   ],
   "source": [
    "test_orbit"
   ]
  },
  {
   "cell_type": "code",
   "execution_count": 11,
   "metadata": {},
   "outputs": [
    {
     "data": {
      "text/plain": [
       "42"
      ]
     },
     "execution_count": 11,
     "metadata": {},
     "output_type": "execute_result"
    }
   ],
   "source": [
    "sum([len(val) for val in test_orbit.values()])"
   ]
  },
  {
   "cell_type": "code",
   "execution_count": null,
   "metadata": {},
   "outputs": [],
   "source": [
    "# Day 6 part 2"
   ]
  },
  {
   "cell_type": "code",
   "execution_count": null,
   "metadata": {},
   "outputs": [],
   "source": [
    "def outer_common_planet(you_val, san_val, orbit_dict):\n",
    "    common = list(set(orbit_dict['YOU']) & set(out_in2['SAN']))\n",
    "    # list of the planets in common\n",
    "\n",
    "    common_index = [out_in2['YOU'].index(planet) for planet in common]\n",
    "    # the index in the YOU order of the planets shared between you and Santa\n",
    "    \n",
    "    common_index = [out_in2['YOU'].index(planet) for planet in common]\n",
    "    # the index in the YOU order of the planets shared between you and Santa\n",
    "    \n",
    "    common_min = np.argmin(common_index)\n",
    "    # this is the index of the min position in common_index"
   ]
  },
  {
   "cell_type": "code",
   "execution_count": null,
   "metadata": {},
   "outputs": [],
   "source": [
    "common = list(set(out_in2['YOU']) & set(out_in2['SAN']))\n",
    "# list of the planets in common\n"
   ]
  },
  {
   "cell_type": "code",
   "execution_count": null,
   "metadata": {},
   "outputs": [],
   "source": [
    "# need to find the smallest common value (use index) (since outer to inner)"
   ]
  },
  {
   "cell_type": "code",
   "execution_count": null,
   "metadata": {},
   "outputs": [],
   "source": [
    "common_index = [out_in2['YOU'].index(planet) for planet in common]\n",
    "# the index in the YOU order of the planets shared between you and Santa"
   ]
  },
  {
   "cell_type": "code",
   "execution_count": null,
   "metadata": {},
   "outputs": [],
   "source": [
    "common_min = np.argmin(common_index)\n",
    "# this is the index of the min position in common_index"
   ]
  },
  {
   "cell_type": "code",
   "execution_count": null,
   "metadata": {},
   "outputs": [],
   "source": [
    "common_index[common_min] # is the index of the outer most planet that you share in common "
   ]
  },
  {
   "cell_type": "code",
   "execution_count": null,
   "metadata": {},
   "outputs": [],
   "source": [
    "you_common = len(out_in2['YOU']) - common_index[common_min] "
   ]
  },
  {
   "cell_type": "code",
   "execution_count": null,
   "metadata": {},
   "outputs": [],
   "source": [
    "you_common"
   ]
  },
  {
   "cell_type": "code",
   "execution_count": null,
   "metadata": {},
   "outputs": [],
   "source": [
    "common_index_san = [out_in2['SAN'].index(planet) for planet in common]"
   ]
  },
  {
   "cell_type": "code",
   "execution_count": null,
   "metadata": {},
   "outputs": [],
   "source": [
    "common_min_san = np.argmin(common_index_san)"
   ]
  },
  {
   "cell_type": "code",
   "execution_count": null,
   "metadata": {},
   "outputs": [],
   "source": [
    "common_index_san[common_min_san]"
   ]
  },
  {
   "cell_type": "code",
   "execution_count": null,
   "metadata": {},
   "outputs": [],
   "source": [
    "common_san = len(out_in2['SAN']) - common_index_san[common_min_san]"
   ]
  },
  {
   "cell_type": "code",
   "execution_count": null,
   "metadata": {},
   "outputs": [],
   "source": [
    "common_san"
   ]
  },
  {
   "cell_type": "code",
   "execution_count": null,
   "metadata": {},
   "outputs": [],
   "source": [
    "you_common + common_san - 2"
   ]
  },
  {
   "cell_type": "code",
   "execution_count": null,
   "metadata": {},
   "outputs": [],
   "source": [
    "# need to count down to the "
   ]
  },
  {
   "cell_type": "code",
   "execution_count": null,
   "metadata": {},
   "outputs": [],
   "source": []
  },
  {
   "cell_type": "code",
   "execution_count": null,
   "metadata": {},
   "outputs": [],
   "source": [
    "# Below works but only if in order for part 1"
   ]
  },
  {
   "cell_type": "code",
   "execution_count": null,
   "metadata": {},
   "outputs": [],
   "source": [
    "map_dict = {}"
   ]
  },
  {
   "cell_type": "code",
   "execution_count": null,
   "metadata": {},
   "outputs": [],
   "source": [
    "def make_dict(inner, outer):\n",
    "    if inner == \"COM\":\n",
    "        map_dict[outer] = 1\n",
    "    else:\n",
    "        map_dict[outer] = map_dict[inner] + 1\n",
    "    #return map_dict"
   ]
  },
  {
   "cell_type": "code",
   "execution_count": null,
   "metadata": {},
   "outputs": [],
   "source": [
    "santa_map.apply(lambda x: make_dict(x[0], x[1]), axis = 1)"
   ]
  },
  {
   "cell_type": "code",
   "execution_count": null,
   "metadata": {},
   "outputs": [],
   "source": [
    "orbits = sum(map_dict.values())"
   ]
  },
  {
   "cell_type": "code",
   "execution_count": null,
   "metadata": {},
   "outputs": [],
   "source": [
    "orbits"
   ]
  },
  {
   "cell_type": "code",
   "execution_count": null,
   "metadata": {},
   "outputs": [],
   "source": []
  }
 ],
 "metadata": {
  "kernelspec": {
   "display_name": "Python 3",
   "language": "python",
   "name": "python3"
  },
  "language_info": {
   "codemirror_mode": {
    "name": "ipython",
    "version": 3
   },
   "file_extension": ".py",
   "mimetype": "text/x-python",
   "name": "python",
   "nbconvert_exporter": "python",
   "pygments_lexer": "ipython3",
   "version": "3.7.4"
  }
 },
 "nbformat": 4,
 "nbformat_minor": 4
}
