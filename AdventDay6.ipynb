{
 "cells": [
  {
   "cell_type": "code",
   "execution_count": 18,
   "metadata": {},
   "outputs": [],
   "source": [
    "# Day 6 part 1"
   ]
  },
  {
   "cell_type": "code",
   "execution_count": 19,
   "metadata": {},
   "outputs": [],
   "source": [
    "import pandas as pd\n",
    "import copy\n",
    "from itertools import chain\n",
    "import numpy as np"
   ]
  },
  {
   "cell_type": "code",
   "execution_count": 20,
   "metadata": {},
   "outputs": [],
   "source": [
    "def go_in(inner, outer, out_in):\n",
    "    out_in[outer].append(inner)"
   ]
  },
  {
   "cell_type": "code",
   "execution_count": 21,
   "metadata": {},
   "outputs": [],
   "source": [
    "def find_orbits(my_dict):\n",
    "    for key in my_dict:\n",
    "        temp = key\n",
    "        while 'COM' not in my_dict[temp][0]:\n",
    "            temp = my_dict[temp][0]\n",
    "            my_dict[key].append(my_dict[temp][0])"
   ]
  },
  {
   "cell_type": "code",
   "execution_count": 22,
   "metadata": {},
   "outputs": [],
   "source": [
    "def make_orbit_dict(data):\n",
    "    out_in = {outer: [] for outer in set(data[1])} \n",
    "    data.apply(lambda x: go_in(x[0], x[1], out_in), axis = 1)\n",
    "    out_in2 = copy.deepcopy(out_in)    \n",
    "    find_orbits(out_in2)\n",
    "    return out_in2"
   ]
  },
  {
   "cell_type": "code",
   "execution_count": 23,
   "metadata": {},
   "outputs": [],
   "source": [
    "santa_map = pd.read_table(\"data/day6_test.txt\", header = None, sep = \")\")"
   ]
  },
  {
   "cell_type": "code",
   "execution_count": 43,
   "metadata": {},
   "outputs": [],
   "source": [
    "santa_full = pd.read_table(\"data/day6_full.txt\", header = None, sep = \")\")"
   ]
  },
  {
   "cell_type": "code",
   "execution_count": 24,
   "metadata": {},
   "outputs": [],
   "source": [
    "test_orbit = make_orbit_dict(santa_map)"
   ]
  },
  {
   "cell_type": "code",
   "execution_count": 44,
   "metadata": {},
   "outputs": [],
   "source": [
    "santa_orbit = make_orbit_dict(santa_full)"
   ]
  },
  {
   "cell_type": "code",
   "execution_count": 26,
   "metadata": {},
   "outputs": [
    {
     "data": {
      "text/plain": [
       "42"
      ]
     },
     "execution_count": 26,
     "metadata": {},
     "output_type": "execute_result"
    }
   ],
   "source": [
    "sum([len(val) for val in test_orbit.values()])"
   ]
  },
  {
   "cell_type": "code",
   "execution_count": 27,
   "metadata": {},
   "outputs": [],
   "source": [
    "# Day 6 part 2"
   ]
  },
  {
   "cell_type": "code",
   "execution_count": 28,
   "metadata": {},
   "outputs": [],
   "source": [
    "santa_map2 = pd.read_table(\"data/day6_test2.txt\", header = None, sep = \")\")\n",
    "orbit_dict = make_orbit_dict(santa_map2)\n",
    "both = ['YOU', 'SAN']"
   ]
  },
  {
   "cell_type": "code",
   "execution_count": 29,
   "metadata": {},
   "outputs": [
    {
     "data": {
      "text/plain": [
       "[[5, 3, 6, 4], [3, 1, 4, 2]]"
      ]
     },
     "execution_count": 29,
     "metadata": {},
     "output_type": "execute_result"
    }
   ],
   "source": [
    "common = list(set(orbit_dict['YOU']) & set(orbit_dict['SAN']))\n",
    "[[orbit_dict[key].index(planet) for planet in common] \n",
    "                    for key in ['YOU', 'SAN']]"
   ]
  },
  {
   "cell_type": "code",
   "execution_count": 46,
   "metadata": {},
   "outputs": [],
   "source": [
    "def outer_common_planet(orbit_dict):\n",
    "    \n",
    "    # need to find the smallest common value (use index) (since outer to inner)\n",
    "    both = ['YOU', 'SAN']\n",
    "    common = list(set(orbit_dict['YOU']) & set(orbit_dict['SAN']))\n",
    "    # print(common)\n",
    "    # list of the planets in common\n",
    "\n",
    "    common_index = [[orbit_dict[key].index(planet) for planet in common] \n",
    "                    for key in both]\n",
    "    # print(common_index)\n",
    "    # the index in the YOU order of the planets shared between you and Santa\n",
    "    \n",
    "    common_min = [np.argmin(ind) for ind in common_index]\n",
    "    # print(common_min)\n",
    "    # this is the index of the min position in common_index\n",
    "    \n",
    "    outer_planet_ind = [index[my_min] for index, my_min in zip(common_index, common_min)]\n",
    "    # print(outer_planet)\n",
    "    \n",
    "    steps = sum(outer_planet_ind)\n",
    "    # is the index of the outer most planet that you share in common \n",
    "    return steps\n",
    "    \n",
    "    "
   ]
  },
  {
   "cell_type": "code",
   "execution_count": 47,
   "metadata": {},
   "outputs": [
    {
     "data": {
      "text/plain": [
       "367"
      ]
     },
     "execution_count": 47,
     "metadata": {},
     "output_type": "execute_result"
    }
   ],
   "source": [
    "outer_common_planet(santa_orbit)"
   ]
  }
 ],
 "metadata": {
  "kernelspec": {
   "display_name": "Python 3",
   "language": "python",
   "name": "python3"
  },
  "language_info": {
   "codemirror_mode": {
    "name": "ipython",
    "version": 3
   },
   "file_extension": ".py",
   "mimetype": "text/x-python",
   "name": "python",
   "nbconvert_exporter": "python",
   "pygments_lexer": "ipython3",
   "version": "3.7.4"
  }
 },
 "nbformat": 4,
 "nbformat_minor": 4
}
