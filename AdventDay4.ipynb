{
 "cells": [
  {
   "cell_type": "code",
   "execution_count": null,
   "metadata": {},
   "outputs": [],
   "source": [
    "# Day4 Part 1"
   ]
  },
  {
   "cell_type": "code",
   "execution_count": 1,
   "metadata": {},
   "outputs": [],
   "source": [
    "import pandas as pd"
   ]
  },
  {
   "cell_type": "code",
   "execution_count": 113,
   "metadata": {},
   "outputs": [],
   "source": [
    "code_min = 234208\n",
    "code_max = 765869"
   ]
  },
  {
   "cell_type": "code",
   "execution_count": null,
   "metadata": {},
   "outputs": [],
   "source": [
    "# min acceptable code is 234444\n",
    "# max acceptable code is 699999\n",
    "# write up this part later"
   ]
  },
  {
   "cell_type": "code",
   "execution_count": null,
   "metadata": {},
   "outputs": [],
   "source": [
    "'''\n",
    "Two adjacent digits are the same (like 22 in 122345).\n",
    "Going from left to right, the digits never decrease; they only ever increase or stay the same (like 111123 or 135679).\n",
    "\n",
    "'''"
   ]
  },
  {
   "cell_type": "code",
   "execution_count": 111,
   "metadata": {},
   "outputs": [],
   "source": [
    "def check_value(poss_value):\n",
    "    '''\n",
    "    input: poss_value: 6 digit number that will be between the min and the max specified\n",
    "    output: whether or not that number is valid (true/false)\n",
    "    '''\n",
    "    # put poss_value into list\n",
    "    poss_list = [int(num) for num in str(poss_value)]\n",
    "\n",
    "    # check that the digit in i index is not more than digit in i+1 index\n",
    "    for i in range(6 - 1):\n",
    "        if poss_list[i] > poss_list[i+1]:\n",
    "            return False\n",
    "    \n",
    "    # check that there is at least 1 double in the code\n",
    "    for i in range(6 -1):\n",
    "        if poss_list[i] == poss_list[i+1]:\n",
    "            return True\n",
    "    \n",
    "    return False\n"
   ]
  },
  {
   "cell_type": "code",
   "execution_count": 114,
   "metadata": {},
   "outputs": [],
   "source": [
    "poss = [num for num in range(code_min, code_max) if check_value(num)]"
   ]
  },
  {
   "cell_type": "code",
   "execution_count": 115,
   "metadata": {},
   "outputs": [
    {
     "data": {
      "text/plain": [
       "1246"
      ]
     },
     "execution_count": 115,
     "metadata": {},
     "output_type": "execute_result"
    }
   ],
   "source": [
    "len(poss)"
   ]
  },
  {
   "cell_type": "code",
   "execution_count": 116,
   "metadata": {},
   "outputs": [],
   "source": [
    "# part 2"
   ]
  },
  {
   "cell_type": "code",
   "execution_count": 214,
   "metadata": {},
   "outputs": [],
   "source": [
    "def non_consec(test):\n",
    "    test.insert(0, False)\n",
    "    test.append(False)\n",
    "    #print(test)\n",
    "    for i in range(1, len(test)-1):\n",
    "        #print(test[i])\n",
    "        if test[i] is True and test[i-1] is False and test[i+1] is False:\n",
    "            return True \n",
    "    return False"
   ]
  },
  {
   "cell_type": "code",
   "execution_count": 215,
   "metadata": {},
   "outputs": [],
   "source": [
    "def only2(poss_list):\n",
    "    # check that there is a double only\n",
    "    test = [poss_list[i] == poss_list[i+1] for i in range(5)]\n",
    "    \n",
    "    # test to see if there's a false either before or after true\n",
    "    return non_consec(test)"
   ]
  },
  {
   "cell_type": "code",
   "execution_count": 216,
   "metadata": {},
   "outputs": [
    {
     "data": {
      "text/plain": [
       "True"
      ]
     },
     "execution_count": 216,
     "metadata": {},
     "output_type": "execute_result"
    }
   ],
   "source": [
    "only2([4,4,4,4,1,1])"
   ]
  },
  {
   "cell_type": "code",
   "execution_count": 217,
   "metadata": {},
   "outputs": [],
   "source": [
    "def non_decrease(poss_list):\n",
    "    # check that the digit in i index is not more than digit in i+1 index\n",
    "    test = [poss_list[i] <= poss_list[i+1] for i in range(5)]\n",
    "    \n",
    "    return all(test)"
   ]
  },
  {
   "cell_type": "code",
   "execution_count": 218,
   "metadata": {},
   "outputs": [],
   "source": [
    "def check_value2(poss_value):\n",
    "    '''\n",
    "    input: poss_value: 6 digit number that will be between the min and the max specified\n",
    "    output: whether or not that number is valid (true/false)\n",
    "    '''\n",
    "    poss_list = [int(num) for num in str(poss_value)]\n",
    "\n",
    "    # check that the digit in i index is not more than digit in i+1 index\n",
    "    non_dec = non_decrease(poss_list)\n",
    "    \n",
    "    # check that there is a double and not a triple in the code\n",
    "    only2_val = only2(poss_list)\n",
    "    \n",
    "    return True if non_dec & only2_val else False\n"
   ]
  },
  {
   "cell_type": "code",
   "execution_count": 219,
   "metadata": {},
   "outputs": [],
   "source": [
    "poss2 = [num for num in poss if check_value2(num)]"
   ]
  },
  {
   "cell_type": "code",
   "execution_count": 220,
   "metadata": {},
   "outputs": [
    {
     "data": {
      "text/plain": [
       "814"
      ]
     },
     "execution_count": 220,
     "metadata": {},
     "output_type": "execute_result"
    }
   ],
   "source": [
    "len(poss2)"
   ]
  },
  {
   "cell_type": "code",
   "execution_count": 139,
   "metadata": {},
   "outputs": [
    {
     "data": {
      "text/plain": [
       "[234456,\n",
       " 234457,\n",
       " 234458,\n",
       " 234459,\n",
       " 234467,\n",
       " 234468,\n",
       " 234469,\n",
       " 234478,\n",
       " 234479,\n",
       " 234489,\n",
       " 234556,\n",
       " 234557,\n",
       " 234558,\n",
       " 234559,\n",
       " 234566,\n",
       " 234577,\n",
       " 234588,\n",
       " 234599,\n",
       " 234667,\n",
       " 234668,\n",
       " 234669,\n",
       " 234677,\n",
       " 234688,\n",
       " 234699,\n",
       " 234778,\n",
       " 234779,\n",
       " 234788,\n",
       " 234799,\n",
       " 234889,\n",
       " 234899,\n",
       " 235567,\n",
       " 235568,\n",
       " 235569,\n",
       " 235578,\n",
       " 235579,\n",
       " 235589,\n",
       " 235667,\n",
       " 235668,\n",
       " 235669,\n",
       " 235677,\n",
       " 235688,\n",
       " 235699,\n",
       " 235778,\n",
       " 235779,\n",
       " 235788,\n",
       " 235799,\n",
       " 235889,\n",
       " 235899,\n",
       " 236678,\n",
       " 236679,\n",
       " 236689,\n",
       " 236778,\n",
       " 236779,\n",
       " 236788,\n",
       " 236799,\n",
       " 236889,\n",
       " 236899,\n",
       " 237789,\n",
       " 237889,\n",
       " 237899,\n",
       " 244567,\n",
       " 244568,\n",
       " 244569,\n",
       " 244578,\n",
       " 244579,\n",
       " 244589,\n",
       " 244678,\n",
       " 244679,\n",
       " 244689,\n",
       " 244789,\n",
       " 245567,\n",
       " 245568,\n",
       " 245569,\n",
       " 245578,\n",
       " 245579,\n",
       " 245589,\n",
       " 245667,\n",
       " 245668,\n",
       " 245669,\n",
       " 245677,\n",
       " 245688,\n",
       " 245699,\n",
       " 245778,\n",
       " 245779,\n",
       " 245788,\n",
       " 245799,\n",
       " 245889,\n",
       " 245899,\n",
       " 246678,\n",
       " 246679,\n",
       " 246689,\n",
       " 246778,\n",
       " 246779,\n",
       " 246788,\n",
       " 246799,\n",
       " 246889,\n",
       " 246899,\n",
       " 247789,\n",
       " 247889,\n",
       " 247899,\n",
       " 255678,\n",
       " 255679,\n",
       " 255689,\n",
       " 255789,\n",
       " 256678,\n",
       " 256679,\n",
       " 256689,\n",
       " 256778,\n",
       " 256779,\n",
       " 256788,\n",
       " 256799,\n",
       " 256889,\n",
       " 256899,\n",
       " 257789,\n",
       " 257889,\n",
       " 257899,\n",
       " 266789,\n",
       " 267789,\n",
       " 267889,\n",
       " 267899,\n",
       " 334567,\n",
       " 334568,\n",
       " 334569,\n",
       " 334578,\n",
       " 334579,\n",
       " 334589,\n",
       " 334678,\n",
       " 334679,\n",
       " 334689,\n",
       " 334789,\n",
       " 335678,\n",
       " 335679,\n",
       " 335689,\n",
       " 335789,\n",
       " 336789,\n",
       " 344567,\n",
       " 344568,\n",
       " 344569,\n",
       " 344578,\n",
       " 344579,\n",
       " 344589,\n",
       " 344678,\n",
       " 344679,\n",
       " 344689,\n",
       " 344789,\n",
       " 345567,\n",
       " 345568,\n",
       " 345569,\n",
       " 345578,\n",
       " 345579,\n",
       " 345589,\n",
       " 345667,\n",
       " 345668,\n",
       " 345669,\n",
       " 345677,\n",
       " 345688,\n",
       " 345699,\n",
       " 345778,\n",
       " 345779,\n",
       " 345788,\n",
       " 345799,\n",
       " 345889,\n",
       " 345899,\n",
       " 346678,\n",
       " 346679,\n",
       " 346689,\n",
       " 346778,\n",
       " 346779,\n",
       " 346788,\n",
       " 346799,\n",
       " 346889,\n",
       " 346899,\n",
       " 347789,\n",
       " 347889,\n",
       " 347899,\n",
       " 355678,\n",
       " 355679,\n",
       " 355689,\n",
       " 355789,\n",
       " 356678,\n",
       " 356679,\n",
       " 356689,\n",
       " 356778,\n",
       " 356779,\n",
       " 356788,\n",
       " 356799,\n",
       " 356889,\n",
       " 356899,\n",
       " 357789,\n",
       " 357889,\n",
       " 357899,\n",
       " 366789,\n",
       " 367789,\n",
       " 367889,\n",
       " 367899,\n",
       " 445678,\n",
       " 445679,\n",
       " 445689,\n",
       " 445789,\n",
       " 446789,\n",
       " 455678,\n",
       " 455679,\n",
       " 455689,\n",
       " 455789,\n",
       " 456678,\n",
       " 456679,\n",
       " 456689,\n",
       " 456778,\n",
       " 456779,\n",
       " 456788,\n",
       " 456799,\n",
       " 456889,\n",
       " 456899,\n",
       " 457789,\n",
       " 457889,\n",
       " 457899,\n",
       " 466789,\n",
       " 467789,\n",
       " 467889,\n",
       " 467899,\n",
       " 556789,\n",
       " 566789,\n",
       " 567789,\n",
       " 567889,\n",
       " 567899]"
      ]
     },
     "execution_count": 139,
     "metadata": {},
     "output_type": "execute_result"
    }
   ],
   "source": [
    "poss2"
   ]
  },
  {
   "cell_type": "code",
   "execution_count": null,
   "metadata": {},
   "outputs": [],
   "source": []
  }
 ],
 "metadata": {
  "kernelspec": {
   "display_name": "Python 3",
   "language": "python",
   "name": "python3"
  },
  "language_info": {
   "codemirror_mode": {
    "name": "ipython",
    "version": 3
   },
   "file_extension": ".py",
   "mimetype": "text/x-python",
   "name": "python",
   "nbconvert_exporter": "python",
   "pygments_lexer": "ipython3",
   "version": "3.7.4"
  }
 },
 "nbformat": 4,
 "nbformat_minor": 4
}
