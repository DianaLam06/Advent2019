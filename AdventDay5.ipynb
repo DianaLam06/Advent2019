{
 "cells": [
  {
   "cell_type": "code",
   "execution_count": 150,
   "metadata": {},
   "outputs": [],
   "source": [
    "int_program = [3,225,1,225,6,6,1100,1,238,225,104,0,101,14,135,224,101,-69,224,224,4,224,1002,223,8,223,101,3,224,224,1,224,223,223,102,90,169,224,1001,224,-4590,224,4,224,1002,223,8,223,1001,224,1,224,1,224,223,223,1102,90,45,224,1001,224,-4050,224,4,224,102,8,223,223,101,5,224,224,1,224,223,223,1001,144,32,224,101,-72,224,224,4,224,102,8,223,223,101,3,224,224,1,223,224,223,1102,36,93,225,1101,88,52,225,1002,102,38,224,101,-3534,224,224,4,224,102,8,223,223,101,4,224,224,1,223,224,223,1102,15,57,225,1102,55,49,225,1102,11,33,225,1101,56,40,225,1,131,105,224,101,-103,224,224,4,224,102,8,223,223,1001,224,2,224,1,224,223,223,1102,51,39,225,1101,45,90,225,2,173,139,224,101,-495,224,224,4,224,1002,223,8,223,1001,224,5,224,1,223,224,223,1101,68,86,224,1001,224,-154,224,4,224,102,8,223,223,1001,224,1,224,1,224,223,223,4,223,99,0,0,0,677,0,0,0,0,0,0,0,0,0,0,0,1105,0,99999,1105,227,247,1105,1,99999,1005,227,99999,1005,0,256,1105,1,99999,1106,227,99999,1106,0,265,1105,1,99999,1006,0,99999,1006,227,274,1105,1,99999,1105,1,280,1105,1,99999,1,225,225,225,1101,294,0,0,105,1,0,1105,1,99999,1106,0,300,1105,1,99999,1,225,225,225,1101,314,0,0,106,0,0,1105,1,99999,108,226,677,224,1002,223,2,223,1006,224,329,1001,223,1,223,1007,226,226,224,1002,223,2,223,1006,224,344,101,1,223,223,1008,226,226,224,102,2,223,223,1006,224,359,1001,223,1,223,107,226,677,224,1002,223,2,223,1005,224,374,101,1,223,223,1107,677,226,224,102,2,223,223,1006,224,389,101,1,223,223,108,677,677,224,102,2,223,223,1006,224,404,1001,223,1,223,1108,677,226,224,102,2,223,223,1005,224,419,101,1,223,223,1007,677,226,224,1002,223,2,223,1006,224,434,101,1,223,223,1107,226,226,224,1002,223,2,223,1006,224,449,101,1,223,223,8,677,226,224,102,2,223,223,1006,224,464,1001,223,1,223,1107,226,677,224,102,2,223,223,1005,224,479,1001,223,1,223,1007,677,677,224,102,2,223,223,1005,224,494,1001,223,1,223,1108,677,677,224,102,2,223,223,1006,224,509,101,1,223,223,1008,677,677,224,102,2,223,223,1005,224,524,1001,223,1,223,107,226,226,224,1002,223,2,223,1005,224,539,101,1,223,223,7,226,226,224,102,2,223,223,1005,224,554,101,1,223,223,1108,226,677,224,1002,223,2,223,1006,224,569,1001,223,1,223,107,677,677,224,102,2,223,223,1005,224,584,101,1,223,223,7,677,226,224,1002,223,2,223,1005,224,599,101,1,223,223,108,226,226,224,1002,223,2,223,1005,224,614,101,1,223,223,1008,677,226,224,1002,223,2,223,1005,224,629,1001,223,1,223,7,226,677,224,102,2,223,223,1005,224,644,101,1,223,223,8,677,677,224,102,2,223,223,1005,224,659,1001,223,1,223,8,226,677,224,102,2,223,223,1006,224,674,1001,223,1,223,4,223,99,226]"
   ]
  },
  {
   "cell_type": "code",
   "execution_count": 151,
   "metadata": {},
   "outputs": [],
   "source": [
    "int_program1 = [3,0,4,0,99]\n",
    "int_program2 = [1002,4,3,4,33]\n",
    "int_program3 = [1,9,10,3,2,3,11,0,99,30,40,50]"
   ]
  },
  {
   "cell_type": "code",
   "execution_count": 152,
   "metadata": {},
   "outputs": [],
   "source": [
    "def calc_mode(num):\n",
    "    # can add 4 0's to the front and then take the last 5 or 3 depending on op1,2 or 4\n",
    "    num_str = \"0000\" + str(num)\n",
    "    # if optcode is 1,2, then we need the last 5 digits\n",
    "    code = num % 100\n",
    "    if num % 100 in (1,2, 5, 6, 7, 8):\n",
    "        check_str = num_str[-5:]\n",
    "        check_digits = [int(num) for num in check_str]\n",
    "        modes = check_digits[:3][::-1]       \n",
    "    \n",
    "    elif num % 100 == 4:\n",
    "        check_str = num_str[-3:]\n",
    "        check_digits = [int(num) for num in check_str]    \n",
    "        modes = [check_digits[0]]\n",
    "    \n",
    "    elif num % 100 == 3:\n",
    "        modes = [0]\n",
    "        \n",
    "    else:\n",
    "        modes = None\n",
    "    \n",
    "    return code, modes\n",
    "    "
   ]
  },
  {
   "cell_type": "code",
   "execution_count": 153,
   "metadata": {},
   "outputs": [],
   "source": [
    "def op1(op_input):\n",
    "    # parm3 cannot be immediate mode, but parm1,2 can\n",
    "    modes, int_program, ind = op_input\n",
    "    int_temp = int_program.copy()\n",
    "    parms = int_program[ind+1: ind+4]\n",
    "    terms = [parms[i] if modes[i] == 1 else int_temp[parms[i]] for i in range(len(parms)) ]\n",
    "    \n",
    "    int_temp[parms[2]] = terms[0] + terms[1]\n",
    "    return int_temp, ind + 4"
   ]
  },
  {
   "cell_type": "code",
   "execution_count": 154,
   "metadata": {},
   "outputs": [],
   "source": [
    "def op2(op_input):\n",
    "    # parm3 cannot be immediate mode, but parm1,2 can\n",
    "    modes, int_program, ind = op_input\n",
    "    int_temp = int_program.copy()\n",
    "    parms = int_program[ind+1: ind+4]\n",
    "    \n",
    "    terms = [parms[i] if modes[i] == 1 else int_temp[parms[i]] for i in range(len(parms)) ]\n",
    "    \n",
    "    int_temp[parms[2]] = terms[0] * terms[1]\n",
    "    return int_temp, ind + 4"
   ]
  },
  {
   "cell_type": "code",
   "execution_count": 155,
   "metadata": {},
   "outputs": [],
   "source": [
    "def op3(op_input):\n",
    "    my_input, int_program, ind = op_input\n",
    "    # parm cannot be in immediate mode since it is writing the input there\n",
    "    int_temp = int_program.copy()\n",
    "    parm = int_program[ind+1]\n",
    "    int_temp[parm] = my_input\n",
    "    return int_temp, ind + 2"
   ]
  },
  {
   "cell_type": "code",
   "execution_count": 190,
   "metadata": {},
   "outputs": [],
   "source": [
    "def op4(op_input):\n",
    "    int_program, ind = op_input\n",
    "    parm = int_program[ind + 1]\n",
    "    print(parm)\n",
    "    return int_program[parm], ind + 2"
   ]
  },
  {
   "cell_type": "code",
   "execution_count": 184,
   "metadata": {},
   "outputs": [],
   "source": [
    "def op5(op_input):\n",
    "    modes, int_program, ind = op_input\n",
    "    parms = int_program[ind + 1: ind + 3]\n",
    "    int_temp = int_program.copy()\n",
    "    terms = [parms[i] if modes[i] == 1 else int_temp[parms[i]] for i in range(len(parms)) ]\n",
    "    if terms[0] != 0:\n",
    "        ind = terms[1]\n",
    "    else:\n",
    "        ind = ind + 3\n",
    "    return int_program, ind"
   ]
  },
  {
   "cell_type": "code",
   "execution_count": 166,
   "metadata": {},
   "outputs": [],
   "source": [
    "def op6(op_input):\n",
    "    modes, int_program, ind = op_input\n",
    "    parms = int_program[ind + 1: ind + 3]\n",
    "    int_temp = int_program.copy()\n",
    "    \n",
    "    terms = [parms[i] if modes[i] == 1 else int_temp[parms[i]] for i in range(len(parms)) ]\n",
    "    \n",
    "    if terms[0] == 0:\n",
    "        ind = terms[1]\n",
    "    else:\n",
    "        ind = ind + 3\n",
    "    return int_program, ind"
   ]
  },
  {
   "cell_type": "code",
   "execution_count": 177,
   "metadata": {},
   "outputs": [],
   "source": [
    "def op7(op_input):\n",
    "    modes, int_program, ind = op_input\n",
    "    parms = int_program[ind + 1: ind + 4]\n",
    "    int_temp = int_program.copy()\n",
    "    terms = [parms[i] if modes[i] == 1 else int_temp[parms[i]] for i in range(len(parms)) ]\n",
    "    \n",
    "    if terms[0] < terms[1]:\n",
    "        int_temp[terms[2]] = 1\n",
    "    else:\n",
    "        int_temp[terms[2]] = 0\n",
    "    return int_program, ind + 4"
   ]
  },
  {
   "cell_type": "code",
   "execution_count": 178,
   "metadata": {},
   "outputs": [],
   "source": [
    "def op8(op_input):\n",
    "    modes, int_program, ind = op_input\n",
    "    parms = int_program[ind + 1: ind + 4]\n",
    "    int_temp = int_program.copy()\n",
    "    terms = [parms[i] if modes[i] == 1 else int_temp[parms[i]] for i in range(len(parms)) ]\n",
    "    \n",
    "    \n",
    "    if terms[0] == terms[1]:\n",
    "        int_temp[terms[2]] = 1\n",
    "    else:\n",
    "        int_temp[terms[2]] = 0\n",
    "    return int_program, ind + 4"
   ]
  },
  {
   "cell_type": "code",
   "execution_count": 185,
   "metadata": {},
   "outputs": [],
   "source": [
    "op_list = [op1, op2, op3, op4, op5, op6, op7, op8]\n",
    "op_dict = {i: op_list[i-1] for i in range(1,9)}"
   ]
  },
  {
   "cell_type": "code",
   "execution_count": 186,
   "metadata": {},
   "outputs": [],
   "source": [
    "def create_input(code, modes, int_update, ind, my_input):\n",
    "    if code in (1,2, 5, 6, 7, 8):\n",
    "        return [modes, int_update, ind]\n",
    "    elif code == 3:\n",
    "        return [my_input, int_update, ind]\n",
    "    elif code == 4:\n",
    "        return [int_update, ind]"
   ]
  },
  {
   "cell_type": "code",
   "execution_count": 187,
   "metadata": {},
   "outputs": [],
   "source": [
    "def computer(my_input, int_program):\n",
    "    int_update = int_program.copy()\n",
    "    ind = 0\n",
    "    while ind < len(int_program):\n",
    "        if int_update[ind] == 99:\n",
    "            break\n",
    "            \n",
    "        code, modes = calc_mode(int_update[ind])\n",
    "        \n",
    "        op_input = create_input(code, modes, int_update, ind, my_input)\n",
    "        \n",
    "        if code != 4:\n",
    "            int_update, ind = op_dict[code](op_input)\n",
    "            \n",
    "        elif code == 4:\n",
    "            output, ind = op4(op_input)\n",
    "            \n",
    "    return output"
   ]
  },
  {
   "cell_type": "code",
   "execution_count": 188,
   "metadata": {},
   "outputs": [],
   "source": [
    "int_test1 = [3,21,1008,21,8,20,1005,20,22,107,8,21,20,1006,20,31,\n",
    "1106,0,36,98,0,0,1002,21,125,20,4,20,1105,1,46,104,\n",
    "999,1105,1,46,1101,1000,1,20,4,20,1105,1,46,98,99]"
   ]
  },
  {
   "cell_type": "code",
   "execution_count": 191,
   "metadata": {},
   "outputs": [
    {
     "name": "stdout",
     "output_type": "stream",
     "text": [
      "parms: [20, 31], modes: [0, 1, 0]\n",
      "[0, 31]\n",
      "999\n"
     ]
    },
    {
     "ename": "IndexError",
     "evalue": "list index out of range",
     "output_type": "error",
     "traceback": [
      "\u001b[0;31m---------------------------------------------------------------------------\u001b[0m",
      "\u001b[0;31mIndexError\u001b[0m                                Traceback (most recent call last)",
      "\u001b[0;32m<ipython-input-191-ba7a00d8da05>\u001b[0m in \u001b[0;36m<module>\u001b[0;34m\u001b[0m\n\u001b[0;32m----> 1\u001b[0;31m \u001b[0mcomputer\u001b[0m\u001b[0;34m(\u001b[0m\u001b[0;36m0\u001b[0m\u001b[0;34m,\u001b[0m \u001b[0mint_test1\u001b[0m\u001b[0;34m)\u001b[0m\u001b[0;34m\u001b[0m\u001b[0;34m\u001b[0m\u001b[0m\n\u001b[0m",
      "\u001b[0;32m<ipython-input-187-d6780cbe13b2>\u001b[0m in \u001b[0;36mcomputer\u001b[0;34m(my_input, int_program)\u001b[0m\n\u001b[1;32m     14\u001b[0m \u001b[0;34m\u001b[0m\u001b[0m\n\u001b[1;32m     15\u001b[0m         \u001b[0;32melif\u001b[0m \u001b[0mcode\u001b[0m \u001b[0;34m==\u001b[0m \u001b[0;36m4\u001b[0m\u001b[0;34m:\u001b[0m\u001b[0;34m\u001b[0m\u001b[0;34m\u001b[0m\u001b[0m\n\u001b[0;32m---> 16\u001b[0;31m             \u001b[0moutput\u001b[0m\u001b[0;34m,\u001b[0m \u001b[0mind\u001b[0m \u001b[0;34m=\u001b[0m \u001b[0mop4\u001b[0m\u001b[0;34m(\u001b[0m\u001b[0mop_input\u001b[0m\u001b[0;34m)\u001b[0m\u001b[0;34m\u001b[0m\u001b[0;34m\u001b[0m\u001b[0m\n\u001b[0m\u001b[1;32m     17\u001b[0m \u001b[0;34m\u001b[0m\u001b[0m\n\u001b[1;32m     18\u001b[0m     \u001b[0;32mreturn\u001b[0m \u001b[0moutput\u001b[0m\u001b[0;34m\u001b[0m\u001b[0;34m\u001b[0m\u001b[0m\n",
      "\u001b[0;32m<ipython-input-190-e3c041453309>\u001b[0m in \u001b[0;36mop4\u001b[0;34m(op_input)\u001b[0m\n\u001b[1;32m      3\u001b[0m     \u001b[0mparm\u001b[0m \u001b[0;34m=\u001b[0m \u001b[0mint_program\u001b[0m\u001b[0;34m[\u001b[0m\u001b[0mind\u001b[0m \u001b[0;34m+\u001b[0m \u001b[0;36m1\u001b[0m\u001b[0;34m]\u001b[0m\u001b[0;34m\u001b[0m\u001b[0;34m\u001b[0m\u001b[0m\n\u001b[1;32m      4\u001b[0m     \u001b[0mprint\u001b[0m\u001b[0;34m(\u001b[0m\u001b[0mparm\u001b[0m\u001b[0;34m)\u001b[0m\u001b[0;34m\u001b[0m\u001b[0;34m\u001b[0m\u001b[0m\n\u001b[0;32m----> 5\u001b[0;31m     \u001b[0;32mreturn\u001b[0m \u001b[0mint_program\u001b[0m\u001b[0;34m[\u001b[0m\u001b[0mparm\u001b[0m\u001b[0;34m]\u001b[0m\u001b[0;34m,\u001b[0m \u001b[0mind\u001b[0m \u001b[0;34m+\u001b[0m \u001b[0;36m2\u001b[0m\u001b[0;34m\u001b[0m\u001b[0;34m\u001b[0m\u001b[0m\n\u001b[0m",
      "\u001b[0;31mIndexError\u001b[0m: list index out of range"
     ]
    }
   ],
   "source": [
    "computer(0, int_test1)"
   ]
  },
  {
   "cell_type": "code",
   "execution_count": null,
   "metadata": {},
   "outputs": [],
   "source": []
  }
 ],
 "metadata": {
  "kernelspec": {
   "display_name": "Python 3",
   "language": "python",
   "name": "python3"
  },
  "language_info": {
   "codemirror_mode": {
    "name": "ipython",
    "version": 3
   },
   "file_extension": ".py",
   "mimetype": "text/x-python",
   "name": "python",
   "nbconvert_exporter": "python",
   "pygments_lexer": "ipython3",
   "version": "3.7.4"
  }
 },
 "nbformat": 4,
 "nbformat_minor": 4
}
